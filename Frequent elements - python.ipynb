{
 "cells": [
  {
   "cell_type": "code",
   "execution_count": 1,
   "metadata": {},
   "outputs": [
    {
     "name": "stdout",
     "output_type": "stream",
     "text": [
      "Please enter a string: Mississippi\n",
      "s 4\n",
      "i 4\n",
      "p 2\n",
      "m 1\n"
     ]
    }
   ],
   "source": [
    "s = input(\"Please enter a string: \")\n",
    "\n",
    "def most_frequent(s1):\n",
    "    a = {}\n",
    "    for i in s1:\n",
    "        if i in a:\n",
    "            a[i] = a[i] + 1\n",
    "        else:\n",
    "            a[i] = 1\n",
    "    arr = []\n",
    "    for j in a:\n",
    "        arr.append((a[j], j))\n",
    "    arr.sort(reverse=True)\n",
    "    for i, j in arr:\n",
    "        print (j, i)\n",
    "\n",
    "most_frequent(s.lower())\n",
    "        "
   ]
  },
  {
   "cell_type": "code",
   "execution_count": null,
   "metadata": {},
   "outputs": [],
   "source": []
  }
 ],
 "metadata": {
  "kernelspec": {
   "display_name": "Python 3",
   "language": "python",
   "name": "python3"
  },
  "language_info": {
   "codemirror_mode": {
    "name": "ipython",
    "version": 3
   },
   "file_extension": ".py",
   "mimetype": "text/x-python",
   "name": "python",
   "nbconvert_exporter": "python",
   "pygments_lexer": "ipython3",
   "version": "3.7.4"
  }
 },
 "nbformat": 4,
 "nbformat_minor": 2
}
